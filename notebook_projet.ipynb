{
 "cells": [
  {
   "cell_type": "markdown",
   "metadata": {},
   "source": [
    "# 1. Préambule\n",
    "\n",
    "## Origine du projet\n",
    "\n",
    "Nous avons choisi pour sujet l'étude du \"pricing\" des cartes pokémons, c'est à dire l'étude du prix auquel se vendent les cartes. Ce sujet nous a paru adapter à ce travail de programmation pour plusieurs raisons. Tout d'abord, nous avons accès à beaucoup de données, potentiellement diversifiées via différents site. Ensuite, il est relativement concret, on peut donc comparer ce que propose nos modèles avec ce qui parait intuitivement vrai. Finalement, il nous paraissait amusant et intéressait toutes les personnes du groupe.\n",
    "\n",
    "## Problématique et délimitation pratique du sujet\n",
    "\n",
    "On cherche à prédire le prix de vente des cartes pokémons à partir d'autres variables d'intérêt, tel que la rareté, l'utilisation de la carte dans des tournoi récents, des données de prix antérieures. On se limite en pratique aux données de prix du site \"Magic Card Market\", site laissant des acheteurs et vendeurs interragir pour echanger des cartes. L'offre et la demande importante sur ce site permettent d'avoir un prix réaliste, et non augmenté par un éventuel intermédiaire qui doit encaisser une marge, augmentant donc le prix de vente. On se limite également aux cartes récentes (les quelques dernières années), dont on estime que la valeur est plus facilement explicable (jouabilité en tournoi par exemple) que des cartes très ancienne dont la rareté vient du faible nombre d'exemplaire disponible.\n",
    "\n",
    "## Quelques principes dans la collecte de données\n",
    "\n",
    "On récupèrera les données nécessaire par du scrapping.\n",
    "La façon dont on récupère les données implique du bon sens dans la démarche afin d'éviter de surcharger les sites inutilement, ou de se faire considérer comme un robot, ce qui empècherait de collecter des données. Pour cela, on essaye au maximum de ne pas scrapper plusieurs fois des mêmes pages. Ainsi, on étudie à l'avance les variables d'intérêt et on teste à petite échelle si le code fonctionne avant de lancer le scrapping sur un nom de page plus grand.\n",
    "De plus, on limite le nombre de requête temporel: on lance ainsi une requête tous les au plus 3 secondes. En pratique ce nombre est aléatoire entre 3 et 6 secondes ici pour éviter d'être détecter comme un automate.\n",
    "\n",
    "## Philosophie du stockage des données\n",
    "\n",
    "Le point précédent suppose que l'on stocke avec attention les données. On distingue pour cela deux fichiers: original_data.csv et working_data.csv. \n",
    "Le premier, original_data.csv, sert à stocker toutes les variables récupérées par scrapping, et ne sert qu'à cela. Il doit donc être sauvegardé fréquemment pour éviter une mauvaise manipulation qui aménerait à perdre les données.\n",
    "Le second, working_data.csv, est le fichier de travail. Il s'agit initialement d'une copie de l'original, que l'on peut modifier pour obtenir de nouvelles variables d'intérêt, des données plus claires, etc. \n",
    "\n",
    "En théorie et idéalement, l'hérédité serait claire: working_data.csv serait \"fils\" de original_data.csv. En pratique, on peut avoir besoin de certains éléments de working_data.csv pour scrapper de nouveaux sites et rajouter des données à original_data.csv.\n",
    "\n",
    "L'idée est également d'avoir une structure de données dynamique: on veut pouvoir ajouter des données à notre base, les traiter, puis en rajouter de nouvelles si besoin. Cela suppose que le code permette de rajouter simplement des données, et de faire des opérations (en particulier de scrapping) uniquement sur ces nouvelles données (souvent identifiables par des champs \"NaN\" dans certaines colonnes)."
   ]
  },
  {
   "cell_type": "markdown",
   "metadata": {},
   "source": [
    "# 2. Récupération des données"
   ]
  },
  {
   "cell_type": "markdown",
   "metadata": {},
   "source": [
    "## 2.0 Quelques imports"
   ]
  },
  {
   "cell_type": "markdown",
   "metadata": {},
   "source": [
    "On importe les packages de bibliothèques externe dont on a besoin"
   ]
  },
  {
   "cell_type": "code",
   "execution_count": 1,
   "metadata": {},
   "outputs": [],
   "source": [
    "import time\n",
    "import pandas as pd\n",
    "import numpy as np\n",
    "import random\n",
    "import matplotlib.pyplot as plt\n",
    "import seaborn as sns\n",
    "\n",
    "import importlib\n",
    "\n",
    "from selenium import webdriver\n",
    "from selenium.webdriver.common.keys import Keys\n",
    "from selenium.webdriver.chrome.service import Service\n",
    "from selenium.webdriver.common.by import By\n",
    "from webdriver_manager.chrome import ChromeDriverManager"
   ]
  },
  {
   "cell_type": "markdown",
   "metadata": {},
   "source": [
    "On importe les fonction de auxiliary.py dont on a besoin. Ce sont des fonctions \"génériques\" qui permettent par exemple de faire certaines opérations sur des dataframes."
   ]
  },
  {
   "cell_type": "code",
   "execution_count": 2,
   "metadata": {},
   "outputs": [],
   "source": [
    "from auxiliary_functions import remove_zero_start\n",
    "from auxiliary_functions import intersect_list\n",
    "from auxiliary_functions import complement_list\n",
    "from auxiliary_functions import split_list\n",
    "from auxiliary_functions import mean_error\n",
    "from auxiliary_functions import split_data"
   ]
  },
  {
   "cell_type": "markdown",
   "metadata": {},
   "source": [
    "On importe les fonctions de scrapping dont on a besoin. Celle ci sont stockées dans un fichier Python à part pour éviter de surcharger ce Notebook."
   ]
  },
  {
   "cell_type": "code",
   "execution_count": 3,
   "metadata": {},
   "outputs": [],
   "source": [
    "from scrapping_function import add_expansion\n",
    "from scrapping_function import add_tournament_use\n",
    "from scrapping_function import add_price_trends"
   ]
  },
  {
   "cell_type": "markdown",
   "metadata": {},
   "source": [
    "## 2.1 Première étape de Scrapping: récupération de données de bases\n",
    "\n",
    "On récupère des données de base sur les cartes de chaque extensions parmis une liste d'extension que l'on choisit.\n",
    "On utilise pour cela le site de \"magic card market\", dans la section \"Pokémon\".\n",
    "On récupère pour chaque carte d'une extension donnée:\n",
    "- Le nom\n",
    "- Le nom d'extension\n",
    "- La date de sortie d'extension\n",
    "- Le prix minimum auquel on peut trouver la carte\n",
    "- Le nombre d'exemplaire en vente actuellement\n",
    "- La rareté\n",
    "- L'URL vers la page spécifique à la carte sur MKM, ou plus d'informations sont disponibles\n",
    "\n",
    "Ces données, insuffisantes pour l'analyse, sont néanmoins le point de départ de recherches plus détaillées: les données de nom de carte (comportant un code d'identification) et de nom d'extension permettent d'aller chercher des informations plus précises facilement."
   ]
  },
  {
   "cell_type": "markdown",
   "metadata": {},
   "source": [
    "On récupère ici toutes les cartes dees extensions d'une liste donnée. Si l'extension n'est pas déjà présente dans notre dataframe, toutes ses cartes sont ajoutées par scrapping."
   ]
  },
  {
   "cell_type": "code",
   "execution_count": 4,
   "metadata": {},
   "outputs": [],
   "source": [
    "expansion_list =  [\"Lost-Origin\", \"Stellar-Crown\", \"Surging-Sparks\", \"Shrouded-Fable\", \"Twilight-Masquerade\", \"Temporal-Forces\", \"Paldean-Fates\", \"Paradox-Rift\", \"151\", \"Obsidian-Flames\", \"Paldea-Evolved\", \"Scarlet-Violet\", \"Crown-Zenith\", \"Silver-Tempest\", \"Astral-Radiance\"\n",
    "                   ,\"Brilliant-Stars\", \"Fusion-Strike\", \"Evolving-Skies\", \"Chilling-Reign\", \"Battle-Styles\", \"Shining-Fates\"]\n",
    "\n",
    "for expansion in expansion_list:\n",
    "    add_expansion(expansion)\n",
    "\n",
    "data = pd.read_csv(\"original_data.csv\")\n",
    "data.loc[pd.isna(data[\"Index\"]), \"Index\"] = data.index.to_series().astype(int)\n",
    "data[\"Index\"] = data[\"Index\"].astype(int)"
   ]
  },
  {
   "cell_type": "code",
   "execution_count": 5,
   "metadata": {},
   "outputs": [
    {
     "data": {
      "text/html": [
       "<div>\n",
       "<style scoped>\n",
       "    .dataframe tbody tr th:only-of-type {\n",
       "        vertical-align: middle;\n",
       "    }\n",
       "\n",
       "    .dataframe tbody tr th {\n",
       "        vertical-align: top;\n",
       "    }\n",
       "\n",
       "    .dataframe thead th {\n",
       "        text-align: right;\n",
       "    }\n",
       "</style>\n",
       "<table border=\"1\" class=\"dataframe\">\n",
       "  <thead>\n",
       "    <tr style=\"text-align: right;\">\n",
       "      <th></th>\n",
       "      <th>Index</th>\n",
       "      <th>Name</th>\n",
       "      <th>Expansion</th>\n",
       "      <th>Min price</th>\n",
       "      <th>Exemplaires en vente</th>\n",
       "      <th>Rareté</th>\n",
       "      <th>mkm_url</th>\n",
       "      <th>expansion_release_date</th>\n",
       "      <th>Tournament_last_month</th>\n",
       "      <th>Price trend</th>\n",
       "      <th>Price 7 days</th>\n",
       "      <th>Price 30 days</th>\n",
       "    </tr>\n",
       "  </thead>\n",
       "  <tbody>\n",
       "    <tr>\n",
       "      <th>0</th>\n",
       "      <td>0</td>\n",
       "      <td>Live Code Card (Booster) (LOR)</td>\n",
       "      <td>Lost-Origin</td>\n",
       "      <td>0,02 €</td>\n",
       "      <td>14753</td>\n",
       "      <td>Online Code Card</td>\n",
       "      <td>https://www.cardmarket.com/en/Pokemon/Products...</td>\n",
       "      <td>9TH SEPTEMBER, 2022</td>\n",
       "      <td>NaN</td>\n",
       "      <td>NaN</td>\n",
       "      <td>NaN</td>\n",
       "      <td>NaN</td>\n",
       "    </tr>\n",
       "    <tr>\n",
       "      <th>1</th>\n",
       "      <td>1</td>\n",
       "      <td>Thorton (LOR 167)</td>\n",
       "      <td>Lost-Origin</td>\n",
       "      <td>0,02 €</td>\n",
       "      <td>8496</td>\n",
       "      <td>Uncommon</td>\n",
       "      <td>https://www.cardmarket.com/en/Pokemon/Products...</td>\n",
       "      <td>9TH SEPTEMBER, 2022</td>\n",
       "      <td>NaN</td>\n",
       "      <td>NaN</td>\n",
       "      <td>NaN</td>\n",
       "      <td>NaN</td>\n",
       "    </tr>\n",
       "    <tr>\n",
       "      <th>2</th>\n",
       "      <td>2</td>\n",
       "      <td>Rotom V (LOR 058)</td>\n",
       "      <td>Lost-Origin</td>\n",
       "      <td>0,70 €</td>\n",
       "      <td>239</td>\n",
       "      <td>Ultra Rare</td>\n",
       "      <td>https://www.cardmarket.com/en/Pokemon/Products...</td>\n",
       "      <td>9TH SEPTEMBER, 2022</td>\n",
       "      <td>193.0</td>\n",
       "      <td>3,69 €</td>\n",
       "      <td>3,56 €</td>\n",
       "      <td>3,23 €</td>\n",
       "    </tr>\n",
       "    <tr>\n",
       "      <th>3</th>\n",
       "      <td>3</td>\n",
       "      <td>Colress's Experiment (LOR 155)</td>\n",
       "      <td>Lost-Origin</td>\n",
       "      <td>0,02 €</td>\n",
       "      <td>6339</td>\n",
       "      <td>Uncommon</td>\n",
       "      <td>https://www.cardmarket.com/en/Pokemon/Products...</td>\n",
       "      <td>9TH SEPTEMBER, 2022</td>\n",
       "      <td>NaN</td>\n",
       "      <td>NaN</td>\n",
       "      <td>NaN</td>\n",
       "      <td>NaN</td>\n",
       "    </tr>\n",
       "    <tr>\n",
       "      <th>4</th>\n",
       "      <td>4</td>\n",
       "      <td>Lost Vacuum (LOR 162)</td>\n",
       "      <td>Lost-Origin</td>\n",
       "      <td>0,02 €</td>\n",
       "      <td>12538</td>\n",
       "      <td>Uncommon</td>\n",
       "      <td>https://www.cardmarket.com/en/Pokemon/Products...</td>\n",
       "      <td>9TH SEPTEMBER, 2022</td>\n",
       "      <td>NaN</td>\n",
       "      <td>NaN</td>\n",
       "      <td>NaN</td>\n",
       "      <td>NaN</td>\n",
       "    </tr>\n",
       "    <tr>\n",
       "      <th>5</th>\n",
       "      <td>5</td>\n",
       "      <td>Radiant Hisuian Sneasler (LOR 123)</td>\n",
       "      <td>Lost-Origin</td>\n",
       "      <td>0,05 €</td>\n",
       "      <td>3188</td>\n",
       "      <td>Ultra Rare</td>\n",
       "      <td>https://www.cardmarket.com/en/Pokemon/Products...</td>\n",
       "      <td>9TH SEPTEMBER, 2022</td>\n",
       "      <td>NaN</td>\n",
       "      <td>0,47 €</td>\n",
       "      <td>0,46 €</td>\n",
       "      <td>0,47 €</td>\n",
       "    </tr>\n",
       "    <tr>\n",
       "      <th>6</th>\n",
       "      <td>6</td>\n",
       "      <td>Mirage Gate (LOR 163)</td>\n",
       "      <td>Lost-Origin</td>\n",
       "      <td>0,02 €</td>\n",
       "      <td>8267</td>\n",
       "      <td>Uncommon</td>\n",
       "      <td>https://www.cardmarket.com/en/Pokemon/Products...</td>\n",
       "      <td>9TH SEPTEMBER, 2022</td>\n",
       "      <td>NaN</td>\n",
       "      <td>NaN</td>\n",
       "      <td>NaN</td>\n",
       "      <td>NaN</td>\n",
       "    </tr>\n",
       "    <tr>\n",
       "      <th>7</th>\n",
       "      <td>7</td>\n",
       "      <td>Radiant Gardevoir (LOR 069)</td>\n",
       "      <td>Lost-Origin</td>\n",
       "      <td>0,05 €</td>\n",
       "      <td>2874</td>\n",
       "      <td>Ultra Rare</td>\n",
       "      <td>https://www.cardmarket.com/en/Pokemon/Products...</td>\n",
       "      <td>9TH SEPTEMBER, 2022</td>\n",
       "      <td>NaN</td>\n",
       "      <td>0,35 €</td>\n",
       "      <td>0,42 €</td>\n",
       "      <td>0,46 €</td>\n",
       "    </tr>\n",
       "    <tr>\n",
       "      <th>8</th>\n",
       "      <td>8</td>\n",
       "      <td>Gift Energy (LOR 171)</td>\n",
       "      <td>Lost-Origin</td>\n",
       "      <td>0,02 €</td>\n",
       "      <td>4589</td>\n",
       "      <td>Uncommon</td>\n",
       "      <td>https://www.cardmarket.com/en/Pokemon/Products...</td>\n",
       "      <td>9TH SEPTEMBER, 2022</td>\n",
       "      <td>NaN</td>\n",
       "      <td>NaN</td>\n",
       "      <td>NaN</td>\n",
       "      <td>NaN</td>\n",
       "    </tr>\n",
       "    <tr>\n",
       "      <th>9</th>\n",
       "      <td>9</td>\n",
       "      <td>Radiant Steelix (LOR 124)</td>\n",
       "      <td>Lost-Origin</td>\n",
       "      <td>0,03 €</td>\n",
       "      <td>2994</td>\n",
       "      <td>Ultra Rare</td>\n",
       "      <td>https://www.cardmarket.com/en/Pokemon/Products...</td>\n",
       "      <td>9TH SEPTEMBER, 2022</td>\n",
       "      <td>NaN</td>\n",
       "      <td>0,40 €</td>\n",
       "      <td>0,39 €</td>\n",
       "      <td>0,42 €</td>\n",
       "    </tr>\n",
       "  </tbody>\n",
       "</table>\n",
       "</div>"
      ],
      "text/plain": [
       "   Index                                Name    Expansion Min price  \\\n",
       "0      0      Live Code Card (Booster) (LOR)  Lost-Origin    0,02 €   \n",
       "1      1                   Thorton (LOR 167)  Lost-Origin    0,02 €   \n",
       "2      2                   Rotom V (LOR 058)  Lost-Origin    0,70 €   \n",
       "3      3      Colress's Experiment (LOR 155)  Lost-Origin    0,02 €   \n",
       "4      4               Lost Vacuum (LOR 162)  Lost-Origin    0,02 €   \n",
       "5      5  Radiant Hisuian Sneasler (LOR 123)  Lost-Origin    0,05 €   \n",
       "6      6               Mirage Gate (LOR 163)  Lost-Origin    0,02 €   \n",
       "7      7         Radiant Gardevoir (LOR 069)  Lost-Origin    0,05 €   \n",
       "8      8               Gift Energy (LOR 171)  Lost-Origin    0,02 €   \n",
       "9      9           Radiant Steelix (LOR 124)  Lost-Origin    0,03 €   \n",
       "\n",
       "   Exemplaires en vente            Rareté  \\\n",
       "0                 14753  Online Code Card   \n",
       "1                  8496          Uncommon   \n",
       "2                   239        Ultra Rare   \n",
       "3                  6339          Uncommon   \n",
       "4                 12538          Uncommon   \n",
       "5                  3188        Ultra Rare   \n",
       "6                  8267          Uncommon   \n",
       "7                  2874        Ultra Rare   \n",
       "8                  4589          Uncommon   \n",
       "9                  2994        Ultra Rare   \n",
       "\n",
       "                                             mkm_url expansion_release_date  \\\n",
       "0  https://www.cardmarket.com/en/Pokemon/Products...    9TH SEPTEMBER, 2022   \n",
       "1  https://www.cardmarket.com/en/Pokemon/Products...    9TH SEPTEMBER, 2022   \n",
       "2  https://www.cardmarket.com/en/Pokemon/Products...    9TH SEPTEMBER, 2022   \n",
       "3  https://www.cardmarket.com/en/Pokemon/Products...    9TH SEPTEMBER, 2022   \n",
       "4  https://www.cardmarket.com/en/Pokemon/Products...    9TH SEPTEMBER, 2022   \n",
       "5  https://www.cardmarket.com/en/Pokemon/Products...    9TH SEPTEMBER, 2022   \n",
       "6  https://www.cardmarket.com/en/Pokemon/Products...    9TH SEPTEMBER, 2022   \n",
       "7  https://www.cardmarket.com/en/Pokemon/Products...    9TH SEPTEMBER, 2022   \n",
       "8  https://www.cardmarket.com/en/Pokemon/Products...    9TH SEPTEMBER, 2022   \n",
       "9  https://www.cardmarket.com/en/Pokemon/Products...    9TH SEPTEMBER, 2022   \n",
       "\n",
       "   Tournament_last_month Price trend Price 7 days Price 30 days  \n",
       "0                    NaN         NaN          NaN           NaN  \n",
       "1                    NaN         NaN          NaN           NaN  \n",
       "2                  193.0      3,69 €       3,56 €        3,23 €  \n",
       "3                    NaN         NaN          NaN           NaN  \n",
       "4                    NaN         NaN          NaN           NaN  \n",
       "5                    NaN      0,47 €       0,46 €        0,47 €  \n",
       "6                    NaN         NaN          NaN           NaN  \n",
       "7                    NaN      0,35 €       0,42 €        0,46 €  \n",
       "8                    NaN         NaN          NaN           NaN  \n",
       "9                    NaN      0,40 €       0,39 €        0,42 €  "
      ]
     },
     "execution_count": 5,
     "metadata": {},
     "output_type": "execute_result"
    }
   ],
   "source": [
    "data = pd.read_csv(\"original_data.csv\")\n",
    "data.head(10)"
   ]
  },
  {
   "cell_type": "markdown",
   "metadata": {},
   "source": [
    "## 2.2 Première sélection des données: barrière de prix\n",
    "\n",
    "Le prix minimum des cartes est un bon indicateur nous permettant de faire un premier tri dans nos données. En effet, si notre variable d'intérêt est le prix de vente, il est inutile d'inclure toutes les cartes dont le prix est de 2 centimes, qui est le prix minimum de vente sur MKM: toutes ces cartes sont disponibles en abondance et n'ont pas de \"rareté\".\n",
    "On enlève également certaines types de cartes: les cartes \"Oversized\" et \"Online Code Card\" qui ne sont pas jouables et ne seront pas étudiées dans notre cas.\n",
    "On enlève enfin les cartes ayant des valeurs non acquise pour le prix (qui n'existent en réalité pas)."
   ]
  },
  {
   "cell_type": "code",
   "execution_count": 6,
   "metadata": {},
   "outputs": [],
   "source": [
    "original_data = pd.read_csv(\"original_data.csv\")\n",
    "original_data.to_csv(\"working_data.csv\", index = False)\n",
    "\n",
    "data = pd.read_csv(\"working_data.csv\")\n",
    "data = data[(data[\"Rareté\"] != \"Online Code Card\") & (data[\"Rareté\"] != \"Oversized\") & (data[\"Rareté\"] != \"Fixed\")]\n",
    "data = data.dropna(subset=[\"Min price\"])\n",
    "\n",
    "data[\"Min price\"] = (data['Min price'].str[:-5] + data['Min price'].str[-4:-2]).astype(int)/100\n",
    "data = data[(data[\"Min price\"] >= 0.25)]"
   ]
  },
  {
   "cell_type": "markdown",
   "metadata": {},
   "source": [
    "## 2.3 Seconde étape de scrapping: récupération du nombre d'utilisation en tournoi\n",
    "\n",
    "On récupère sur un autre site (limitlesstcg) le nombre d'utilisation de chaque carte en tournoi dans le dernier mois. \n",
    "Cette donnée est un facteur intéressant car les résultats en tournoi d'une carte peuvent inciter les gens à l'acheter, et donc faire varier le prix ou la disponibilité.\n",
    "\n",
    "A partir de cette étape, on rajoute des données à notre tableau, mais pas nécessairement sur toutes les lignes. En effet, le jeu de donné étant volumineux, on ne peut scrapper individuellement les pages de chaque carte, et on choisit juste des catégories de cartes sur lesquels on veut plus d'information. En particulier, un moyen de sélectionner un ensemble de carte est la rareté.\n",
    "\n",
    "On a également besoin de rajouter des colonnes dans notre tableau working_data pour scrapper plus facilement."
   ]
  },
  {
   "cell_type": "code",
   "execution_count": 7,
   "metadata": {},
   "outputs": [],
   "source": [
    "data[[\"Name\", \"Code\"]] = data[\"Name\"].str.split(\" \\(\", expand = True)\n",
    "data [\"Code\"] = data[\"Code\"].str.rstrip(\")\")\n",
    "data[[\"Expansion_code\", \"Number_code\"]] = data[\"Code\"].str.split(\" \", expand = True)\n",
    "data[\"Number_code\"] = data[\"Number_code\"].apply(remove_zero_start)\n",
    "data.to_csv(\"working_data.csv\", index = False)"
   ]
  },
  {
   "cell_type": "markdown",
   "metadata": {},
   "source": [
    "On récupère toutes les lignes qui ont une rareté donnée (ici toutes les raretés sont sélectionnées) qu'on identifie par leur indexe. Cela permet par la suite de faire des opéraations uniquement sur ces lignes.\n",
    "En particulier, ici, on rajoute le nombre d'utilisation en tournoi le mois passé."
   ]
  },
  {
   "cell_type": "code",
   "execution_count": 8,
   "metadata": {},
   "outputs": [],
   "source": [
    "rarity_list = data[\"Rareté\"].unique().tolist()\n",
    "\n",
    "indexes = []\n",
    "for rarity in rarity_list:\n",
    "    indexes += data.index[(data[\"Rareté\"] == rarity)\n",
    "                            & (pd.isna(data[\"Tournament_last_month\"]))].to_list()\n",
    "indexes_list = split_list(indexes, step=15)\n",
    "\n",
    "for indexes in indexes_list:\n",
    "    add_tournament_use(indexes)"
   ]
  },
  {
   "cell_type": "markdown",
   "metadata": {},
   "source": [
    "## 2.4 Troisième étape de scrapping: on récupère des données plus précises sur les prix\n",
    "\n",
    "En réalité, le prix minimum des cartes n'est pas un très bon indicateur du prix: cela peut traduire des cartes en mauvais états, ou des destinations mals desservies, résultant en des frais de port plus élevés.\n",
    "Un meilleurs indicateur est présent sur la page de la carte: il s'agit du \"Price Trend\" qui est le prix moyen auquel s'échange la carte. En plus de cette variable, on récupère aussi le prix moyen sur les 7 et 30 derniers jours."
   ]
  },
  {
   "cell_type": "code",
   "execution_count": 9,
   "metadata": {},
   "outputs": [],
   "source": [
    "indexes = []\n",
    "for rarity in rarity_list:\n",
    "    indexes += data.index[(data[\"Rareté\"] == rarity)\n",
    "                            & (pd.isna(data[\"Price trend\"]))].to_list()\n",
    "indexes_list = split_list(indexes, step=1)\n",
    "\n",
    "for indexes in indexes_list:\n",
    "    add_price_trends(indexes)"
   ]
  },
  {
   "cell_type": "markdown",
   "metadata": {},
   "source": [
    "# 3. Etat des lieux des données, mise en forme et statistiques descriptives\n",
    "\n",
    "## 3.1 Réorganisation des données\n",
    "\n",
    "On réorganise les données et, en particulier, on ne garde que les lignes pour lesquelles on a toutes les informations récupérées précedemment. On ne garde ainsi dans un nouveau dataframe appelé sub_data que les colonnes qui nous serviront par la suite pour l'analyse des données, et que les lignes pour lesquelles on a les informations pour toutes ces colonnes."
   ]
  },
  {
   "cell_type": "code",
   "execution_count": 10,
   "metadata": {},
   "outputs": [],
   "source": [
    "original_data = pd.read_csv(\"original_data.csv\")\n",
    "original_data.to_csv(\"working_data.csv\", index = False)\n",
    "data = pd.read_csv(\"working_data.csv\")\n",
    "\n",
    "\n",
    "data = data[(data[\"Rareté\"] != \"Online Code Card\") & (data[\"Rareté\"] != \"Oversized\") & (data[\"Rareté\"] != \"Fixed\")]\n",
    "data = data.dropna(subset=[\"Min price\"])\n",
    "data[\"Min price\"] = (data['Min price'].str[:-5] + data['Min price'].str[-4:-2]).astype(int)/100\n",
    "\n",
    "\n",
    "\n",
    "data[[\"Name\", \"Code\"]] = data[\"Name\"].str.split(\" \\(\", expand = True)\n",
    "\n",
    "\n",
    "sub_data = data.dropna().copy()\n",
    "\n",
    "sub_data[\"Price trend\"] = sub_data[\"Price trend\"].str.replace(\".\", \"\")\n",
    "sub_data[\"Price 7 days\"] = sub_data[\"Price 7 days\"].str.replace(\".\", \"\")\n",
    "sub_data[\"Price 30 days\"] = sub_data[\"Price 30 days\"].str.replace(\".\", \"\")\n",
    "\n",
    "sub_data[\"Price trend\"] = (sub_data[\"Price trend\"].str[:-5] + sub_data[\"Price trend\"].str[-4:-2]).astype(int)/100\n",
    "sub_data[\"Price 7 days\"] = (sub_data[\"Price 7 days\"].str[:-5] + sub_data[\"Price 7 days\"].str[-4:-2]).astype(int)/100\n",
    "sub_data[\"Price 30 days\"] = (sub_data[\"Price 30 days\"].str[:-5] + sub_data[\"Price 30 days\"].str[-4:-2]).astype(int)/100\n",
    "order = [\"Index\", \"Name\", \"Expansion\", \"Rareté\", \"Min price\", \"Price trend\", \"Price 7 days\", \"Price 30 days\", \"Exemplaires en vente\", \"Tournament_last_month\"]\n",
    "sub_data = sub_data[order]"
   ]
  },
  {
   "cell_type": "code",
   "execution_count": 11,
   "metadata": {},
   "outputs": [
    {
     "data": {
      "text/html": [
       "<div>\n",
       "<style scoped>\n",
       "    .dataframe tbody tr th:only-of-type {\n",
       "        vertical-align: middle;\n",
       "    }\n",
       "\n",
       "    .dataframe tbody tr th {\n",
       "        vertical-align: top;\n",
       "    }\n",
       "\n",
       "    .dataframe thead th {\n",
       "        text-align: right;\n",
       "    }\n",
       "</style>\n",
       "<table border=\"1\" class=\"dataframe\">\n",
       "  <thead>\n",
       "    <tr style=\"text-align: right;\">\n",
       "      <th></th>\n",
       "      <th>Index</th>\n",
       "      <th>Name</th>\n",
       "      <th>Expansion</th>\n",
       "      <th>Rareté</th>\n",
       "      <th>Min price</th>\n",
       "      <th>Price trend</th>\n",
       "      <th>Price 7 days</th>\n",
       "      <th>Price 30 days</th>\n",
       "      <th>Exemplaires en vente</th>\n",
       "      <th>Tournament_last_month</th>\n",
       "    </tr>\n",
       "  </thead>\n",
       "  <tbody>\n",
       "    <tr>\n",
       "      <th>2</th>\n",
       "      <td>2</td>\n",
       "      <td>Rotom V</td>\n",
       "      <td>Lost-Origin</td>\n",
       "      <td>Ultra Rare</td>\n",
       "      <td>0.70</td>\n",
       "      <td>3.69</td>\n",
       "      <td>3.56</td>\n",
       "      <td>3.23</td>\n",
       "      <td>239</td>\n",
       "      <td>193.0</td>\n",
       "    </tr>\n",
       "    <tr>\n",
       "      <th>12</th>\n",
       "      <td>12</td>\n",
       "      <td>Banette</td>\n",
       "      <td>Lost-Origin</td>\n",
       "      <td>Illustration Rare</td>\n",
       "      <td>0.25</td>\n",
       "      <td>0.99</td>\n",
       "      <td>0.94</td>\n",
       "      <td>0.95</td>\n",
       "      <td>1112</td>\n",
       "      <td>0.0</td>\n",
       "    </tr>\n",
       "    <tr>\n",
       "      <th>13</th>\n",
       "      <td>13</td>\n",
       "      <td>Hisuian Arcanine</td>\n",
       "      <td>Lost-Origin</td>\n",
       "      <td>Illustration Rare</td>\n",
       "      <td>0.50</td>\n",
       "      <td>1.31</td>\n",
       "      <td>1.34</td>\n",
       "      <td>1.24</td>\n",
       "      <td>914</td>\n",
       "      <td>0.0</td>\n",
       "    </tr>\n",
       "    <tr>\n",
       "      <th>14</th>\n",
       "      <td>14</td>\n",
       "      <td>Giratina V</td>\n",
       "      <td>Lost-Origin</td>\n",
       "      <td>Ultra Rare</td>\n",
       "      <td>0.49</td>\n",
       "      <td>1.34</td>\n",
       "      <td>1.20</td>\n",
       "      <td>1.28</td>\n",
       "      <td>1065</td>\n",
       "      <td>1.0</td>\n",
       "    </tr>\n",
       "    <tr>\n",
       "      <th>16</th>\n",
       "      <td>16</td>\n",
       "      <td>Giratina VSTAR</td>\n",
       "      <td>Lost-Origin</td>\n",
       "      <td>Ultra Rare</td>\n",
       "      <td>2.00</td>\n",
       "      <td>3.20</td>\n",
       "      <td>3.33</td>\n",
       "      <td>3.29</td>\n",
       "      <td>838</td>\n",
       "      <td>131.0</td>\n",
       "    </tr>\n",
       "    <tr>\n",
       "      <th>17</th>\n",
       "      <td>17</td>\n",
       "      <td>Gengar</td>\n",
       "      <td>Lost-Origin</td>\n",
       "      <td>Illustration Rare</td>\n",
       "      <td>3.10</td>\n",
       "      <td>5.05</td>\n",
       "      <td>5.11</td>\n",
       "      <td>4.43</td>\n",
       "      <td>401</td>\n",
       "      <td>0.0</td>\n",
       "    </tr>\n",
       "    <tr>\n",
       "      <th>20</th>\n",
       "      <td>20</td>\n",
       "      <td>Charizard</td>\n",
       "      <td>Lost-Origin</td>\n",
       "      <td>Illustration Rare</td>\n",
       "      <td>4.95</td>\n",
       "      <td>7.23</td>\n",
       "      <td>6.90</td>\n",
       "      <td>6.63</td>\n",
       "      <td>635</td>\n",
       "      <td>0.0</td>\n",
       "    </tr>\n",
       "    <tr>\n",
       "      <th>22</th>\n",
       "      <td>22</td>\n",
       "      <td>Snorlax</td>\n",
       "      <td>Lost-Origin</td>\n",
       "      <td>Illustration Rare</td>\n",
       "      <td>0.99</td>\n",
       "      <td>1.95</td>\n",
       "      <td>2.04</td>\n",
       "      <td>1.95</td>\n",
       "      <td>674</td>\n",
       "      <td>0.0</td>\n",
       "    </tr>\n",
       "    <tr>\n",
       "      <th>24</th>\n",
       "      <td>24</td>\n",
       "      <td>Pikachu</td>\n",
       "      <td>Lost-Origin</td>\n",
       "      <td>Illustration Rare</td>\n",
       "      <td>3.95</td>\n",
       "      <td>5.70</td>\n",
       "      <td>5.88</td>\n",
       "      <td>5.71</td>\n",
       "      <td>710</td>\n",
       "      <td>0.0</td>\n",
       "    </tr>\n",
       "    <tr>\n",
       "      <th>26</th>\n",
       "      <td>26</td>\n",
       "      <td>Parasect</td>\n",
       "      <td>Lost-Origin</td>\n",
       "      <td>Illustration Rare</td>\n",
       "      <td>0.40</td>\n",
       "      <td>1.22</td>\n",
       "      <td>1.12</td>\n",
       "      <td>1.06</td>\n",
       "      <td>1039</td>\n",
       "      <td>0.0</td>\n",
       "    </tr>\n",
       "  </tbody>\n",
       "</table>\n",
       "</div>"
      ],
      "text/plain": [
       "    Index              Name    Expansion             Rareté  Min price  \\\n",
       "2       2           Rotom V  Lost-Origin         Ultra Rare       0.70   \n",
       "12     12           Banette  Lost-Origin  Illustration Rare       0.25   \n",
       "13     13  Hisuian Arcanine  Lost-Origin  Illustration Rare       0.50   \n",
       "14     14        Giratina V  Lost-Origin         Ultra Rare       0.49   \n",
       "16     16    Giratina VSTAR  Lost-Origin         Ultra Rare       2.00   \n",
       "17     17            Gengar  Lost-Origin  Illustration Rare       3.10   \n",
       "20     20         Charizard  Lost-Origin  Illustration Rare       4.95   \n",
       "22     22           Snorlax  Lost-Origin  Illustration Rare       0.99   \n",
       "24     24           Pikachu  Lost-Origin  Illustration Rare       3.95   \n",
       "26     26          Parasect  Lost-Origin  Illustration Rare       0.40   \n",
       "\n",
       "    Price trend  Price 7 days  Price 30 days  Exemplaires en vente  \\\n",
       "2          3.69          3.56           3.23                   239   \n",
       "12         0.99          0.94           0.95                  1112   \n",
       "13         1.31          1.34           1.24                   914   \n",
       "14         1.34          1.20           1.28                  1065   \n",
       "16         3.20          3.33           3.29                   838   \n",
       "17         5.05          5.11           4.43                   401   \n",
       "20         7.23          6.90           6.63                   635   \n",
       "22         1.95          2.04           1.95                   674   \n",
       "24         5.70          5.88           5.71                   710   \n",
       "26         1.22          1.12           1.06                  1039   \n",
       "\n",
       "    Tournament_last_month  \n",
       "2                   193.0  \n",
       "12                    0.0  \n",
       "13                    0.0  \n",
       "14                    1.0  \n",
       "16                  131.0  \n",
       "17                    0.0  \n",
       "20                    0.0  \n",
       "22                    0.0  \n",
       "24                    0.0  \n",
       "26                    0.0  "
      ]
     },
     "execution_count": 11,
     "metadata": {},
     "output_type": "execute_result"
    }
   ],
   "source": [
    "sub_data.head(10)"
   ]
  },
  {
   "cell_type": "markdown",
   "metadata": {},
   "source": [
    "On a initialement un échantillon d'environ 1800 cartes."
   ]
  },
  {
   "cell_type": "code",
   "execution_count": 12,
   "metadata": {},
   "outputs": [
    {
     "data": {
      "text/plain": [
       "1765"
      ]
     },
     "execution_count": 12,
     "metadata": {},
     "output_type": "execute_result"
    }
   ],
   "source": [
    "len(sub_data)"
   ]
  },
  {
   "cell_type": "markdown",
   "metadata": {},
   "source": [
    "## 3.2 Distribution des prix\n",
    "\n",
    "On regarde dans un premier temps la distribution des prix."
   ]
  },
  {
   "cell_type": "code",
   "execution_count": 13,
   "metadata": {},
   "outputs": [
    {
     "data": {
      "image/png": "[encoded data removed]",
      "text/plain": [
       "<Figure size 640x480 with 1 Axes>"
      ]
     },
     "metadata": {},
     "output_type": "display_data"
    }
   ],
   "source": [
    "sns.histplot(data=sub_data, x=\"Price trend\", bins=20, kde=False)\n",
    "\n",
    "plt.title(\"Distribution des prix\")\n",
    "plt.xlabel(\"Tendance des prix\")\n",
    "plt.ylabel(\"Nombre d'exemplaire\")\n",
    "plt.show()"
   ]
  },
  {
   "cell_type": "markdown",
   "metadata": {},
   "source": [
    "Celle ci est très étalée (voir ci dessus) avec des cartes à des prix très élevés, que l'on ne souhaite pas inclure. On va donc se contenter d'étudier les prix des cartes coutant moins de 40 euros."
   ]
  },
  {
   "cell_type": "code",
   "execution_count": 14,
   "metadata": {},
   "outputs": [
    {
     "data": {
      "image/png": "[encoded data removed]",
      "text/plain": [
       "<Figure size 640x480 with 1 Axes>"
      ]
     },
     "metadata": {},
     "output_type": "display_data"
    }
   ],
   "source": [
    "sub_data = sub_data[(sub_data[\"Price trend\"] <= 40)]\n",
    "\n",
    "sns.histplot(data=sub_data, x=\"Price trend\", bins=20, kde=False)\n",
    "\n",
    "plt.title(\"Distribution des prix\")\n",
    "plt.xlabel(\"Tendance des prix\")\n",
    "plt.ylabel(\"Nombre d'exemplaire\")\n",
    "plt.show()"
   ]
  },
  {
   "cell_type": "markdown",
   "metadata": {},
   "source": [
    "## 3.3 Répartition des rareté\n",
    "\n",
    "On regarde combien de carte de chaque rareté sont présente, et on enlève les raretés comportant un très faible nombre de carte"
   ]
  },
  {
   "cell_type": "code",
   "execution_count": 15,
   "metadata": {},
   "outputs": [
    {
     "data": {
      "text/plain": [
       "[]"
      ]
     },
     "execution_count": 15,
     "metadata": {},
     "output_type": "execute_result"
    },
    {
     "data": {
      "image/png": "[encoded data removed]",
      "text/plain": [
       "<Figure size 640x480 with 1 Axes>"
      ]
     },
     "metadata": {},
     "output_type": "display_data"
    }
   ],
   "source": [
    "sns.countplot(data = sub_data, x = \"Rareté\")\n",
    "plt.xlabel(\"Raretés\")\n",
    "plt.ylabel(\"Nombre de carte de la rareté\")\n",
    "plt.title(\"Nombre de carte de chaque rareté\")\n",
    "plt.xticks(rotation=90)\n",
    "\n",
    "plt.plot()"
   ]
  },
  {
   "cell_type": "code",
   "execution_count": 16,
   "metadata": {},
   "outputs": [
    {
     "data": {
      "text/plain": [
       "[]"
      ]
     },
     "execution_count": 16,
     "metadata": {},
     "output_type": "execute_result"
    },
    {
     "data": {
      "image/png": "[encoded data removed]",
      "text/plain": [
       "<Figure size 640x480 with 1 Axes>"
      ]
     },
     "metadata": {},
     "output_type": "display_data"
    }
   ],
   "source": [
    "sub_data = sub_data[sub_data[\"Rareté\"].map(sub_data[\"Rareté\"].value_counts() > 100)]\n",
    "\n",
    "sns.countplot(data = sub_data, x = \"Rareté\")\n",
    "plt.xlabel(\"Raretés\")\n",
    "plt.ylabel(\"Nombre de carte de la rareté\")\n",
    "plt.title(\"Nombre de carte de chaque rareté\")\n",
    "plt.xticks(rotation=90)\n",
    "\n",
    "plt.plot()"
   ]
  },
  {
   "cell_type": "markdown",
   "metadata": {},
   "source": [
    "## 3.4 Répartition par extension"
   ]
  },
  {
   "cell_type": "code",
   "execution_count": 17,
   "metadata": {},
   "outputs": [
    {
     "data": {
      "image/png": "[encoded data removed]",
      "text/plain": [
       "<Figure size 640x480 with 1 Axes>"
      ]
     },
     "metadata": {},
     "output_type": "display_data"
    }
   ],
   "source": [
    "sns.countplot(data = sub_data, x = \"Expansion\")\n",
    "plt.title(\"Nombre de carte retenues dans chaque extension\")\n",
    "plt.xticks(rotation=90)\n",
    "plt.ylabel(\"Nombre de cartes dans l'extension\")\n",
    "\n",
    "plt.show()"
   ]
  },
  {
   "cell_type": "code",
   "execution_count": null,
   "metadata": {},
   "outputs": [],
   "source": [
    "numeric_columns = data.select_dtypes(include=['float64', 'int64']).columns\n",
    "price_columns = [\"Min price\"]\n",
    "numeric_columns = numeric_columns.drop('Index').union(price_columns)\n",
    "\n",
    "fig, axes = plt.subplots(nrows=len(numeric_columns), ncols=1, figsize=(15, len(numeric_columns) * 5))\n",
    "\n",
    "for i, col in enumerate(numeric_columns):\n",
    "    sns.boxplot(data=data, x=col, ax=axes[i], color='skyblue')  \n",
    "    axes[i].set_title(f'Boxplot de la colonne : {col}', fontsize=14)\n",
    "    axes[i].grid(True, linestyle='--', alpha=0.7)  \n",
    "\n",
    "plt.tight_layout()\n",
    "plt.show()"
   ]
  },
  {
   "cell_type": "markdown",
   "metadata": {},
   "source": [
    "On ne peut tirer aucune information des boxplots sur les prix moyens sur les 7 derniers jours et les 30 derniers. En effet, les prix sont trop variables entre les différentes cartes, il n'y a aucune tendance claire qui se dégage. Toutefois, on peut mieux analyser la répartition du nombre d'exemplaires de chaque carte en vente, le prix minimum des cartes ainsique leur utilisation en tournoi.\n",
    "Plus de la moitié des cartes sont vendues entre 230 eet 400 exemplaires, quelques cartes plus rares sont moins vendues et il y a certaines cartes qui sont vendues en plus grande quantité.\n",
    "Pour la répartition des prix, on remarque que de très nombreuses cartes sont vendues à moins de 10 euros même s'il y a quelques anomalies avec des prix plus élevées.\n",
    "Enfin, si l'on regarde l'utilisation des cartes en tournoi, il y a une répartition assez dense pour les cartes jouées moins de 200 fois le mois dernier."
   ]
  },
  {
   "cell_type": "code",
   "execution_count": null,
   "metadata": {},
   "outputs": [],
   "source": [
    "sns.pairplot(data, diag_kind= \"kde\")\n",
    "\n",
    "plt.suptitle(\"Matrice de graphiques de dispersion \", y=1.02)\n",
    "plt.show()"
   ]
  },
  {
   "cell_type": "markdown",
   "metadata": {},
   "source": [
    "On a représenté les différents nuages de points d'une colonne en fonction d'une autre pour voir si l'on pouvait toruver des corrélations entre les variables. Il ne sert à rien de regarder les nuages de points contenant Index, cela n'apporte aucune information. \n",
    "Il ne semble pas clair qu'il y ait des corrélations entre le prix minimum d'une carte, son utilisation en tournoi ainsi que le nombre d'exemplaires en vente (sinon le nuage de points formerait une droite)"
   ]
  },
  {
   "cell_type": "markdown",
   "metadata": {},
   "source": [
    "# 4. Analyse des données\n",
    "\n",
    "On analyse les données traitées auparavant par deux méthodes: une régression linéaire et un réseau de neurone.\n",
    "Notre but est ici de prédire la variable \"Price trend\" à partir des autres variables. On utilise donc pour cela 80% des données pour l'apprentissage, et on test notre prédiction sur les 20% des données restantes.\n",
    "Notre \"erreur\" de prédiction sera la moyenne sur l'ensemble de l'échantillon test des erreurs entre la valeur prédite et la valeur réelle de la variable \"Price trend\"."
   ]
  },
  {
   "cell_type": "markdown",
   "metadata": {},
   "source": [
    "## 4.0 Découpage des données"
   ]
  },
  {
   "cell_type": "code",
   "execution_count": 18,
   "metadata": {},
   "outputs": [],
   "source": [
    "new_data = False\n",
    "if new_data:\n",
    "    learning_data, testing_data = split_data(sub_data, 0.8)\n",
    "    learning_data.to_csv(\"data/learning_data.csv\", index = False)\n",
    "    testing_data.to_csv(\"data/testing_data.csv\", index = False)"
   ]
  },
  {
   "cell_type": "code",
   "execution_count": 19,
   "metadata": {},
   "outputs": [],
   "source": [
    "learning_data = pd.read_csv(\"data/learning_data.csv\")\n",
    "testing_data = pd.read_csv(\"data/testing_data.csv\")"
   ]
  },
  {
   "cell_type": "markdown",
   "metadata": {},
   "source": [
    "## 4.1 Première analyse sur les données: régression linéaire\n",
    "\n",
    "On fait une première étape d'analyse dans laquelle on va juste chercher à faire une régression du prix en fonction des différentes données.\n",
    "On pourrait pour cela récupérer directement utiliser des modules déjà codé, mais on préfère ici coder une fonction de zéro.\n",
    "Celle ci prend en attribut un tableau de donné, une liste des nom de colonne du tableau servant d'élément explicatifs, le nom de la colonne souhaitant être expliquée, et renvoie la liste des coéfficients des variables explicatives dans la régression.\n",
    "Les fonction \"d'économétrie\" seront dans le fichier regression_function.py."
   ]
  },
  {
   "cell_type": "code",
   "execution_count": 20,
   "metadata": {},
   "outputs": [],
   "source": [
    "from regression_function import *"
   ]
  },
  {
   "cell_type": "code",
   "execution_count": 21,
   "metadata": {},
   "outputs": [],
   "source": [
    "rarity_list = sub_data[\"Rareté\"].unique().tolist()\n",
    "\n",
    "for rarity in rarity_list:\n",
    "    learning_data[rarity] = (learning_data[\"Rareté\"] == rarity).astype(int)\n",
    "    testing_data[rarity] = (testing_data[\"Rareté\"] == rarity).astype(int)\n",
    "for expansion in expansion_list:\n",
    "    learning_data[expansion] = (learning_data[\"Expansion\"] == expansion).astype(int)\n",
    "    testing_data[expansion] = (testing_data[\"Expansion\"] == expansion).astype(int)\n",
    "explicative_variables = [\"Price 30 days\", \"Price 7 days\"] + [\"Exemplaires en vente\"] + [\"Tournament_last_month\"] + rarity_list[:-1] + expansion_list[:-1]"
   ]
  },
  {
   "cell_type": "code",
   "execution_count": 22,
   "metadata": {},
   "outputs": [
    {
     "name": "stdout",
     "output_type": "stream",
     "text": [
      "R2:  0.9778847519010723\n",
      "R2 ajusté:  0.9773708864116823\n",
      "Erreur moyenne:  0.5497899159663866\n"
     ]
    }
   ],
   "source": [
    "beta, R2, R2_adj = mse_regression(learning_data, explicative_variables, \"Price trend\")\n",
    "ecart_moyen = mean_error(learning_data, \"Price trend\", \"Regression\")\n",
    "print(\"R2: \",R2)\n",
    "print(\"R2 ajusté: \", R2_adj)\n",
    "print(\"Erreur moyenne: \", ecart_moyen)"
   ]
  },
  {
   "cell_type": "code",
   "execution_count": 23,
   "metadata": {},
   "outputs": [
    {
     "data": {
      "text/html": [
       "<div>\n",
       "<style scoped>\n",
       "    .dataframe tbody tr th:only-of-type {\n",
       "        vertical-align: middle;\n",
       "    }\n",
       "\n",
       "    .dataframe tbody tr th {\n",
       "        vertical-align: top;\n",
       "    }\n",
       "\n",
       "    .dataframe thead th {\n",
       "        text-align: right;\n",
       "    }\n",
       "</style>\n",
       "<table border=\"1\" class=\"dataframe\">\n",
       "  <thead>\n",
       "    <tr style=\"text-align: right;\">\n",
       "      <th></th>\n",
       "      <th>Name</th>\n",
       "      <th>Price trend</th>\n",
       "      <th>Regression prediction</th>\n",
       "    </tr>\n",
       "  </thead>\n",
       "  <tbody>\n",
       "    <tr>\n",
       "      <th>0</th>\n",
       "      <td>Crustle</td>\n",
       "      <td>2.40</td>\n",
       "      <td>2.73</td>\n",
       "    </tr>\n",
       "    <tr>\n",
       "      <th>1</th>\n",
       "      <td>Lunatone</td>\n",
       "      <td>1.89</td>\n",
       "      <td>2.45</td>\n",
       "    </tr>\n",
       "    <tr>\n",
       "      <th>2</th>\n",
       "      <td>Galarian Slowking VMAX</td>\n",
       "      <td>1.55</td>\n",
       "      <td>1.90</td>\n",
       "    </tr>\n",
       "    <tr>\n",
       "      <th>3</th>\n",
       "      <td>Karen's Conviction</td>\n",
       "      <td>6.12</td>\n",
       "      <td>7.59</td>\n",
       "    </tr>\n",
       "    <tr>\n",
       "      <th>4</th>\n",
       "      <td>Charjabug</td>\n",
       "      <td>3.05</td>\n",
       "      <td>3.48</td>\n",
       "    </tr>\n",
       "  </tbody>\n",
       "</table>\n",
       "</div>"
      ],
      "text/plain": [
       "                     Name  Price trend  Regression prediction\n",
       "0                 Crustle         2.40                   2.73\n",
       "1                Lunatone         1.89                   2.45\n",
       "2  Galarian Slowking VMAX         1.55                   1.90\n",
       "3      Karen's Conviction         6.12                   7.59\n",
       "4               Charjabug         3.05                   3.48"
      ]
     },
     "execution_count": 23,
     "metadata": {},
     "output_type": "execute_result"
    }
   ],
   "source": [
    "testing_data[\"Regression prediction\"] = testing_data.apply(lambda row: sum([beta[i]*row[explicative_variables[i]] for i in range(len(explicative_variables))])[0], axis = 1).round(2)\n",
    "\n",
    "testing_data[[\"Name\", \"Price trend\", \"Regression prediction\"]].head()"
   ]
  },
  {
   "cell_type": "markdown",
   "metadata": {},
   "source": [
    "## 4.2 Une alternative dans l'analyse des données: un réseau de neurones"
   ]
  },
  {
   "cell_type": "code",
   "execution_count": 24,
   "metadata": {},
   "outputs": [],
   "source": [
    "from neural_network import *"
   ]
  },
  {
   "cell_type": "code",
   "execution_count": 25,
   "metadata": {},
   "outputs": [],
   "source": [
    "d = {}\n",
    "l = sub_data[\"Expansion\"].unique()\n",
    "for i in range(len(l)):\n",
    "    expansion = l[i]\n",
    "    d[expansion] = i\n",
    "learning_data[\"Expansion number\"] = learning_data[\"Expansion\"].map(d)\n",
    "testing_data[\"Expansion number\"] = testing_data[\"Expansion\"].map(d)\n",
    "\n",
    "d = {}\n",
    "l = sub_data[\"Rareté\"].unique()\n",
    "for i in range(len(l)):\n",
    "    rarity = l[i]\n",
    "    d[rarity] = i\n",
    "learning_data[\"Rareté number\"] = learning_data[\"Rareté\"].map(d)\n",
    "testing_data[\"Rareté number\"] = testing_data[\"Rareté\"].map(d)"
   ]
  },
  {
   "cell_type": "code",
   "execution_count": 26,
   "metadata": {},
   "outputs": [],
   "source": [
    "column_titles_list = [\"Price 30 days\", \"Price 7 days\"] + [\"Tournament_last_month\"] + [\"Rareté number\"] + [\"Expansion number\"]\n",
    "output_column = [\"Price trend\"]\n",
    "\n",
    "size_list = [len(column_titles_list), 30, len(output_column)]\n",
    "function_list = []\n",
    "for i in range(len(size_list)-1):\n",
    "    function_list.append(Sigmoid())\n",
    "\n",
    "\n",
    "path = \"neural_network\"\n",
    "create_network_path = path + \"/original_network\"\n",
    "working_network_path = path + \"/working_network\"\n",
    "saved_network_path = path + \"/saved_network\"\n",
    "i = 1\n",
    "\n",
    "#create_new_network(path = create_network_path, loss_function = Distance(), size_list = size_list , function_list = function_list, column_titles_list= column_titles_list, output_column= output_column)\n",
    "#copy_network(create_network_path, working_network_path)\n",
    "#copy_network(working_network_path, saved_network_path + str(i))\n",
    "#copy_network(saved_network_path + str(i), working_network_path)"
   ]
  },
  {
   "cell_type": "code",
   "execution_count": 40,
   "metadata": {},
   "outputs": [
    {
     "name": "stdout",
     "output_type": "stream",
     "text": [
      "\n",
      "mean_loss 1.929904536425895 \n",
      "\n",
      "1\n",
      "\n",
      "mean_loss 1.8792977056599582 \n",
      "\n",
      "2\n",
      "\n",
      "mean_loss 1.8276316660481715 \n",
      "\n",
      "3\n",
      "\n",
      "mean_loss 1.8211132695194128 \n",
      "\n",
      "4\n",
      "\n",
      "mean_loss 1.8027289588207929 \n",
      "\n",
      "5\n"
     ]
    }
   ],
   "source": [
    "train_network(working_network_path, learning_data, n_epoch = 2, learning_factor= 0.00002)\n",
    "#train_network_score(working_network_path, learning_data, score = 1.8, n_max= 5, learning_factor= 0.00005)"
   ]
  },
  {
   "cell_type": "code",
   "execution_count": 41,
   "metadata": {},
   "outputs": [
    {
     "name": "stdout",
     "output_type": "stream",
     "text": [
      "0.5578187919463088\n",
      "1.9851342281879196\n"
     ]
    }
   ],
   "source": [
    "apply_network(working_network_path, testing_data)\n",
    "neural_prediction = testing_data.pop(\"Neural prediction\")\n",
    "testing_data.insert(6, 'Neural prediction', neural_prediction) \n",
    "\n",
    "testing_data[\"Neural prediction\"] = testing_data.apply(lambda row: max(row[\"Neural prediction\"], 0), axis = 1).round(2)\n",
    "testing_data[\"Neural prediction error\"] = testing_data[\"Price trend\"] - testing_data[\"Neural prediction\"]\n",
    "testing_data[\"Regression prediction error\"] = testing_data[\"Price trend\"] - testing_data[\"Regression prediction\"]\n",
    "\n",
    "\n",
    "print(mean_error(testing_data, \"Regression prediction\", \"Price trend\"))\n",
    "print(mean_error(testing_data, \"Neural prediction\", \"Price trend\"))"
   ]
  },
  {
   "cell_type": "code",
   "execution_count": 29,
   "metadata": {},
   "outputs": [
    {
     "data": {
      "text/html": [
       "<div>\n",
       "<style scoped>\n",
       "    .dataframe tbody tr th:only-of-type {\n",
       "        vertical-align: middle;\n",
       "    }\n",
       "\n",
       "    .dataframe tbody tr th {\n",
       "        vertical-align: top;\n",
       "    }\n",
       "\n",
       "    .dataframe thead th {\n",
       "        text-align: right;\n",
       "    }\n",
       "</style>\n",
       "<table border=\"1\" class=\"dataframe\">\n",
       "  <thead>\n",
       "    <tr style=\"text-align: right;\">\n",
       "      <th></th>\n",
       "      <th>Name</th>\n",
       "      <th>Price trend</th>\n",
       "      <th>Regression prediction</th>\n",
       "      <th>Neural prediction</th>\n",
       "      <th>Regression prediction error</th>\n",
       "      <th>Neural prediction error</th>\n",
       "    </tr>\n",
       "  </thead>\n",
       "  <tbody>\n",
       "    <tr>\n",
       "      <th>0</th>\n",
       "      <td>Crustle</td>\n",
       "      <td>2.40</td>\n",
       "      <td>2.73</td>\n",
       "      <td>5.10</td>\n",
       "      <td>-0.33</td>\n",
       "      <td>-2.70</td>\n",
       "    </tr>\n",
       "    <tr>\n",
       "      <th>1</th>\n",
       "      <td>Lunatone</td>\n",
       "      <td>1.89</td>\n",
       "      <td>2.45</td>\n",
       "      <td>4.60</td>\n",
       "      <td>-0.56</td>\n",
       "      <td>-2.71</td>\n",
       "    </tr>\n",
       "    <tr>\n",
       "      <th>2</th>\n",
       "      <td>Galarian Slowking VMAX</td>\n",
       "      <td>1.55</td>\n",
       "      <td>1.90</td>\n",
       "      <td>3.13</td>\n",
       "      <td>-0.35</td>\n",
       "      <td>-1.58</td>\n",
       "    </tr>\n",
       "    <tr>\n",
       "      <th>3</th>\n",
       "      <td>Karen's Conviction</td>\n",
       "      <td>6.12</td>\n",
       "      <td>7.59</td>\n",
       "      <td>6.83</td>\n",
       "      <td>-1.47</td>\n",
       "      <td>-0.71</td>\n",
       "    </tr>\n",
       "    <tr>\n",
       "      <th>4</th>\n",
       "      <td>Charjabug</td>\n",
       "      <td>3.05</td>\n",
       "      <td>3.48</td>\n",
       "      <td>3.63</td>\n",
       "      <td>-0.43</td>\n",
       "      <td>-0.58</td>\n",
       "    </tr>\n",
       "    <tr>\n",
       "      <th>5</th>\n",
       "      <td>Jynx ex</td>\n",
       "      <td>14.08</td>\n",
       "      <td>14.79</td>\n",
       "      <td>14.18</td>\n",
       "      <td>-0.71</td>\n",
       "      <td>-0.10</td>\n",
       "    </tr>\n",
       "    <tr>\n",
       "      <th>6</th>\n",
       "      <td>Celebi VMAX</td>\n",
       "      <td>13.17</td>\n",
       "      <td>11.34</td>\n",
       "      <td>5.75</td>\n",
       "      <td>1.83</td>\n",
       "      <td>7.42</td>\n",
       "    </tr>\n",
       "    <tr>\n",
       "      <th>7</th>\n",
       "      <td>Tornadus V</td>\n",
       "      <td>0.79</td>\n",
       "      <td>1.11</td>\n",
       "      <td>5.27</td>\n",
       "      <td>-0.32</td>\n",
       "      <td>-4.48</td>\n",
       "    </tr>\n",
       "    <tr>\n",
       "      <th>8</th>\n",
       "      <td>Charcadet</td>\n",
       "      <td>3.22</td>\n",
       "      <td>3.41</td>\n",
       "      <td>11.40</td>\n",
       "      <td>-0.19</td>\n",
       "      <td>-8.18</td>\n",
       "    </tr>\n",
       "    <tr>\n",
       "      <th>9</th>\n",
       "      <td>Rapid Strike Energy</td>\n",
       "      <td>4.20</td>\n",
       "      <td>4.23</td>\n",
       "      <td>5.88</td>\n",
       "      <td>-0.03</td>\n",
       "      <td>-1.68</td>\n",
       "    </tr>\n",
       "    <tr>\n",
       "      <th>10</th>\n",
       "      <td>Crocalor</td>\n",
       "      <td>6.02</td>\n",
       "      <td>6.27</td>\n",
       "      <td>5.26</td>\n",
       "      <td>-0.25</td>\n",
       "      <td>0.76</td>\n",
       "    </tr>\n",
       "    <tr>\n",
       "      <th>11</th>\n",
       "      <td>Cheren's Care</td>\n",
       "      <td>2.96</td>\n",
       "      <td>2.96</td>\n",
       "      <td>3.45</td>\n",
       "      <td>0.00</td>\n",
       "      <td>-0.49</td>\n",
       "    </tr>\n",
       "    <tr>\n",
       "      <th>12</th>\n",
       "      <td>Swablu</td>\n",
       "      <td>6.18</td>\n",
       "      <td>5.79</td>\n",
       "      <td>8.25</td>\n",
       "      <td>0.39</td>\n",
       "      <td>-2.07</td>\n",
       "    </tr>\n",
       "    <tr>\n",
       "      <th>13</th>\n",
       "      <td>Suicune V</td>\n",
       "      <td>10.70</td>\n",
       "      <td>9.58</td>\n",
       "      <td>5.72</td>\n",
       "      <td>1.12</td>\n",
       "      <td>4.98</td>\n",
       "    </tr>\n",
       "    <tr>\n",
       "      <th>14</th>\n",
       "      <td>Oddish</td>\n",
       "      <td>4.95</td>\n",
       "      <td>4.89</td>\n",
       "      <td>12.87</td>\n",
       "      <td>0.06</td>\n",
       "      <td>-7.92</td>\n",
       "    </tr>\n",
       "  </tbody>\n",
       "</table>\n",
       "</div>"
      ],
      "text/plain": [
       "                      Name  Price trend  Regression prediction  \\\n",
       "0                  Crustle         2.40                   2.73   \n",
       "1                 Lunatone         1.89                   2.45   \n",
       "2   Galarian Slowking VMAX         1.55                   1.90   \n",
       "3       Karen's Conviction         6.12                   7.59   \n",
       "4                Charjabug         3.05                   3.48   \n",
       "5                  Jynx ex        14.08                  14.79   \n",
       "6              Celebi VMAX        13.17                  11.34   \n",
       "7               Tornadus V         0.79                   1.11   \n",
       "8                Charcadet         3.22                   3.41   \n",
       "9      Rapid Strike Energy         4.20                   4.23   \n",
       "10                Crocalor         6.02                   6.27   \n",
       "11           Cheren's Care         2.96                   2.96   \n",
       "12                  Swablu         6.18                   5.79   \n",
       "13               Suicune V        10.70                   9.58   \n",
       "14                  Oddish         4.95                   4.89   \n",
       "\n",
       "    Neural prediction  Regression prediction error  Neural prediction error  \n",
       "0                5.10                        -0.33                    -2.70  \n",
       "1                4.60                        -0.56                    -2.71  \n",
       "2                3.13                        -0.35                    -1.58  \n",
       "3                6.83                        -1.47                    -0.71  \n",
       "4                3.63                        -0.43                    -0.58  \n",
       "5               14.18                        -0.71                    -0.10  \n",
       "6                5.75                         1.83                     7.42  \n",
       "7                5.27                        -0.32                    -4.48  \n",
       "8               11.40                        -0.19                    -8.18  \n",
       "9                5.88                        -0.03                    -1.68  \n",
       "10               5.26                        -0.25                     0.76  \n",
       "11               3.45                         0.00                    -0.49  \n",
       "12               8.25                         0.39                    -2.07  \n",
       "13               5.72                         1.12                     4.98  \n",
       "14              12.87                         0.06                    -7.92  "
      ]
     },
     "execution_count": 29,
     "metadata": {},
     "output_type": "execute_result"
    }
   ],
   "source": [
    "testing_data[[\"Name\", \"Price trend\", \"Regression prediction\", \"Neural prediction\", \"Regression prediction error\", \"Neural prediction error\"]].head(15)"
   ]
  },
  {
   "cell_type": "markdown",
   "metadata": {},
   "source": [
    "# Conclusion:\n",
    "\n",
    "Nos deux modèles d'analyse nous permettent donc de prédire avec plus ou moins de précision le prix des cartes. Au vu des données que nous avons récupéré, la régression donne en pratique une meilleure approximation que le réseau de neurone. En effet, la valeur antérieur des cartes (prix sur 7 et 30 jours) est très corrélée à la tendance des prix. La régression linéaire arrive donc à prédire correctement (~0,6 euro d'écart en moyenne) notre variable d'intérêt. En revanche, le réseau de neurone est moins convainquant: l'écart est de presque 2 euros. Cela peut s'expliquer par plusieurs raisons. Premièrement, une implémentation très rudimentaire du réseau de neurone, et donc très peu optimisée, ne permettant pas un processus d'apprentissage abouti, le temps de calcul étant prohibitif. Puis, un potentiel manque de données, à la fois en terme de nombre de cartes et de données sur ces cartes. Enfin, sans connaissance particulière en machine learning, nous n'avons pas pu utiliser un modèle de réseau de neurone adapté à notre problème: nous avons simplement essayé différentes combinaisons de nombre de neurones sur chacune des couches. Il aurait pu être intéressant de voir si l'approche par réseau de neurone était plus aboutie pour une catégorisation des cartes pas tranche de prix. "
   ]
  }
 ],
 "metadata": {
  "kernelspec": {
   "display_name": "Python 3",
   "language": "python",
   "name": "python3"
  },
  "language_info": {
   "codemirror_mode": {
    "name": "ipython",
    "version": 3
   },
   "file_extension": ".py",
   "mimetype": "text/x-python",
   "name": "python",
   "nbconvert_exporter": "python",
   "pygments_lexer": "ipython3",
   "version": "3.10.11"
  }
 },
 "nbformat": 4,
 "nbformat_minor": 2
}
